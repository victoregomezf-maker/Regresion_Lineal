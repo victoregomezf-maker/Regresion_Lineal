{
  "cells": [
    {
      "cell_type": "markdown",
      "metadata": {
        "id": "view-in-github",
        "colab_type": "text"
      },
      "source": [
        "<a href=\"https://colab.research.google.com/github/victoregomezf-maker/Regresion_Lineal/blob/main/Regresion_Lineal.ipynb\" target=\"_parent\"><img src=\"https://colab.research.google.com/assets/colab-badge.svg\" alt=\"Open In Colab\"/></a>"
      ]
    },
    {
      "cell_type": "markdown",
      "metadata": {
        "id": "Ii_7DdtJH8e2"
      },
      "source": [
        "# Taller 3: Regresión Lineal y Conceptos Fundamentales\n",
        "\n",
        "\n"
      ],
      "id": "Ii_7DdtJH8e2"
    },
    {
      "cell_type": "markdown",
      "metadata": {
        "id": "1KuTZ6PkH8e5"
      },
      "source": [
        "## Instrucciones Generales\n",
        "\n",
        "**Fecha de entrega:** 20 de septiembre.\n",
        "**Tiempo disponible:** Tienen dos clases y el fin de semana para completar el taller.\n",
        "\n",
        "1.  **Trabajo en Grupo:** Este taller se debe realizar en los grupos previamente definidos.\n",
        "2.  **Repositorio en GitHub:** Cada grupo debe crear un repositorio en GitHub.\n",
        "    * Una sola persona del grupo es responsable de crearlo.\n",
        "    * El repositorio debe llamarse **`Regresion_Lineal`**.\n",
        "    * Este archivo debe ser subido al repositorio con el nombre **`Regresion_Lineal.ipynb`**.\n",
        "    * **Alternativa:** Si tienen complicaciones con GitHub, pueden enviar el enlace del cuaderno de Google Colab al aula virtual.\n",
        "3.  **Actividad a Mano (20% de la nota):**\n",
        "    * La asistencia a clase es **obligatoria**.\n",
        "    * Se realizará una actividad práctica de regresión lineal a mano.\n",
        "    * Cada integrante del grupo deberá firmar la hoja de la actividad, la cual constituye el 20% de la nota de este taller."
      ],
      "id": "1KuTZ6PkH8e5"
    },
    {
      "cell_type": "markdown",
      "metadata": {
        "id": "mgaEeFAbH8e7"
      },
      "source": [
        "---"
      ],
      "id": "mgaEeFAbH8e7"
    },
    {
      "cell_type": "markdown",
      "metadata": {
        "id": "et22XL5bH8e7"
      },
      "source": [
        "## **Parte 1: Definición del Problema**\n",
        "\n",
        "Piensa en tu experiencia académica o laboral en un área de operaciones y elige **un problema** relacionado con inventarios, calidad, mantenimiento o productividad.\n",
        "\n",
        "1.  Indica cuál es tu variable dependiente **$Y$** (aquello que quieres predecir o clasificar).\n",
        "2.  Lista entre 3 y 5 variables independientes **$X$** que medirías para predecir $Y$.\n",
        "3.  Especifica si tu problema es de **regresión** (predecir un valor numérico) o de **clasificación**."
      ],
      "id": "et22XL5bH8e7"
    },
    {
      "cell_type": "markdown",
      "metadata": {
        "id": "pxSLPR4AH8e8"
      },
      "source": [
        "**Problema elegido:** Predicción de demanda semanal de un producto.\n",
        "\n",
        "**Variable dependiente (Y):**\n",
        "\n",
        "\n",
        "**Respuesta :** Prediccion de demanda semanal\n",
        "\n",
        "**Variables independientes (X):**\n",
        "\n",
        "**Respuesta 1:** Precio unitario del producto ($).\n",
        "\n",
        "\n",
        "**Respuesta 2:** Gasto en publicidad semanal ($).\n",
        "\n",
        "\n",
        "**Respuesta 3:** Estación del año (codificada: 1=verano, 0=invierno).\n",
        "\n",
        "**Respuesta 4:** Inventario inicial disponible (unidades).\n",
        "\n",
        "**Regresion** En mi caso, elegí como variable dependiente la demanda semanal de un producto. Esta variable se mide en unidades vendidas, que es un valor numérico y puede tomar muchos valores distintos.\n",
        "Por eso, el tipo de problema que planteo es de regresión, ya que lo que queremos es predecir un número y no clasificar en categorías."
      ],
      "id": "pxSLPR4AH8e8"
    },
    {
      "cell_type": "markdown",
      "metadata": {
        "id": "eHOtOSQiH8e9"
      },
      "source": [
        "## **Parte 2: Preprocesamiento de Datos y *Leakage***\n",
        "\n",
        "Basado en el caso que definiste en la Parte 1:\n",
        "\n",
        "1.  Lista entre 3 y 5 **transformaciones** que aplicarías a tus datos (ej. imputación de valores faltantes, codificación de variables categóricas, escalado, creación de *lags*, etc.) y **justifica por qué** cada una es necesaria.\n",
        "2.  Señala un posible riesgo de ***data leakage*** (fuga de datos) en tu plan y explica cómo lo evitarías usando un *pipeline* de preprocesamiento."
      ],
      "id": "eHOtOSQiH8e9"
    },
    {
      "cell_type": "markdown",
      "metadata": {
        "id": "6KYkmr9mH8e9"
      },
      "source": [
        "**Respuesta (escribe aquí):**\n",
        "\n",
        "Transformaciones necesarias:\n",
        "\n",
        "Imputación de valores faltantes: si falta información de inventario o publicidad, imputar con mediana.\n",
        "\n",
        "Codificación de variables categóricas: estación del año en formato One-Hot.\n",
        "\n",
        "Escalado de variables numéricas: normalizar precio y publicidad para mejorar estabilidad del modelo.\n",
        "\n",
        "Creación de lags: incluir demanda de la semana anterior como predictor.\n",
        "\n",
        "Posible riesgo de leakage: Usar demanda futura para crear variables en train. Esto significa que estaría incluyendo información del futuro en el conjunto de entrenamiento, lo cual hace que el modelo aprenda con datos que en la realidad no tendría disponibles.\n",
        "\n",
        "Cómo evitarlo: Separar primero train/valid/test. Train es el conjunto de datos con el que el modelo aprende los coeficientes, valid es el conjunto de datos que sirve para evaluar y ajustar el modelo durante el entrenamiento, y test es el conjunto final que se utiliza únicamente para medir el rendimiento real en datos que el modelo nunca ha visto. Luego aplicar el pipeline (imputación, escalado, codificación) solo con train. Esto quiere decir que todas las transformaciones se calculan usando únicamente el conjunto de entrenamiento (train) y después se aplican tal cual a valid y test, evitando que se filtre información de validación o prueba en el proceso de aprendizaj."
      ],
      "id": "6KYkmr9mH8e9"
    },
    {
      "cell_type": "markdown",
      "metadata": {
        "id": "hbyCKrY6H8e-"
      },
      "source": [
        "---"
      ],
      "id": "hbyCKrY6H8e-"
    },
    {
      "cell_type": "markdown",
      "metadata": {
        "id": "ukCTM2EKH8e-"
      },
      "source": [
        "## **Parte 3: Interpretación y Métricas de Regresión Simple**\n",
        "\n",
        "Para esta sección, elige un caso simple de regresión (puede ser el tuyo o uno hipotético, como predecir la demanda de un producto según su precio).\n",
        "\n",
        "1.  Define claramente las variables **$Y$** y **$X$** junto con sus **unidades** (ej. $Y$: número de unidades vendidas, $X$: precio en dólares).\n",
        "2.  Supón que entrenas un modelo y obtienes una pendiente de **$\\hat{\\beta}_1 = -0.6$**. Escribe una interpretación clara y concisa de este coeficiente en el contexto de tu problema.\n",
        "3.  ¿Qué **métrica** de evaluación usarías (MAE, RMSE, o MAPE) y **por qué** es la más adecuada para tu caso?\n",
        "4.  Menciona **un supuesto** del modelo de regresión lineal que validarías (ej. linealidad, homocedasticidad) y explica **cómo** lo harías (usando un gráfico o una prueba estadística)."
      ],
      "id": "ukCTM2EKH8e-"
    },
    {
      "cell_type": "markdown",
      "metadata": {
        "id": "5KGzW8pSH8e_"
      },
      "source": [
        "**Respuesta (escribe aquí):**\n",
        "\n",
        "**1:**  Y = demanda semanal (unidades)\n",
        "\n",
        "X = precio (pesos/dólares por unidad)\n",
        "\n",
        "**2:** Coeficiente: β1= −0.6\n",
        "\n",
        "Por cada $1 adicional en el precio, la demanda semanal disminuye en 0.6 unidades, manteniendo constantes las demás variables.\n",
        "\n",
        "Ejemplo nuemrico: si el precio sube 10$, la demanda esperada baja 0,6 X 10 = 6 unidades\n",
        "\n",
        "**3:** Métrica de evaluación recomendada que utilizariamos seria RMSE.\n",
        "\n",
        "Es la mas adecuada penaliza más los errores grandes (útil cuando faltantes en inventario o sobre óptimos costosos) y tiene la misma unidad que la variable objetivo, lo que facilita interpretación operativa\n",
        "\n",
        "**4:** Supuesto a validar: Linealidad entre X y Y.\n",
        "\n",
        "Cómo validarlo:\n",
        "\n",
        "Scatterplot de Y vs X con la recta ajustada de forma visual.\n",
        "\n",
        "Plot de residuos vs predicción: debe verse una nube sin patrón, si aparece un “embudo” hay heterocedasticidad.\n",
        "\n"
      ],
      "id": "5KGzW8pSH8e_"
    },
    {
      "cell_type": "markdown",
      "metadata": {
        "id": "NlCf92svH8e_"
      },
      "source": [
        "---"
      ],
      "id": "NlCf92svH8e_"
    },
    {
      "cell_type": "markdown",
      "metadata": {
        "id": "DEOrd_fSH8e_"
      },
      "source": [
        "## **Parte 4: Regresión Múltiple y Colinealidad**\n",
        "\n",
        "Volviendo a tu caso de la Parte 1 (con múltiples variables).\n",
        "\n",
        "1.  Escribe el **vector de variables** $\\vec{X}$ y la **respuesta** $Y$.\n",
        "2.  Explica cómo interpretarías el **coeficiente** de una de tus variables clave (incluyendo unidades y el sentido de la relación: positiva o negativa).\n",
        "3.  Si sospecharas que existe **colinealidad** entre tus variables, menciona **dos acciones** que podrías tomar para mitigarla."
      ],
      "id": "DEOrd_fSH8e_"
    },
    {
      "cell_type": "markdown",
      "metadata": {
        "id": "REUWPUP_H8fA"
      },
      "source": [
        "**Respuesta (escribe aquí):**\n",
        "\n",
        "**1:** Variables (X): Precio, Publicidad, Estación, Inventario inicial.\n",
        "\n",
        "Respuesta (Y): Demanda semanal.\n",
        "\n",
        "**2:** Interpretación de un coeficiente: Si el coeficiente de Publicidad = 0.5, significa que por cada $1 adicional en publicidad, la demanda aumenta en 0.5 unidades, manteniendo constantes las demás variables.\n",
        "\n",
        "**3:** Si hay colinealidad:\n",
        "\n",
        "Eliminar o combinar variables correlacionadas.\n",
        "\n",
        "Usar regularización (ridge o lasso)."
      ],
      "id": "REUWPUP_H8fA"
    },
    {
      "cell_type": "markdown",
      "metadata": {
        "id": "Kfz2bBkzH8fA"
      },
      "source": [
        "---"
      ],
      "id": "Kfz2bBkzH8fA"
    },
    {
      "cell_type": "markdown",
      "metadata": {
        "id": "d0sQYW3DH8fA"
      },
      "source": [
        "## **Parte 5: Interacciones y Multicolinealidad (VIF)**\n",
        "\n",
        "1.  Plantea un caso con una variable $Y$ y entre 4 y 6 variables $X$. ¿Qué término de **interacción** entre dos variables podrías añadir al modelo y **por qué** crees que sería útil?\n",
        "2.  Si al calcular el Factor de Inflación de la Varianza (VIF) para una variable, obtienes un valor alto (ej. > 10), menciona **dos acciones** que podrías tomar para solucionarlo."
      ],
      "id": "d0sQYW3DH8fA"
    },
    {
      "cell_type": "markdown",
      "metadata": {
        "id": "tEgefQ1cH8fA"
      },
      "source": [
        "**Respuesta (escribe aquí):**\n",
        "\n",
        "**1:** Planteamiento del caso:\n",
        "\n",
        "Y = Demanda semanal (unidades).\n",
        "\n",
        "X = Precio, Publicidad, Inventario, Estación.\n",
        "\n",
        "**Interacción**\n",
        "\n",
        "Creamos la interacción Precio X Estación:\n",
        "\n",
        "En invierno (Estación = 0), cada aumento de 1 en el precio hace que la demanda baje 1 unidad.\n",
        "\n",
        "En verano (Estación = 1), ese mismo aumento de 1 en el precio solo hace que la demanda baje 0.4 unidades con esta interacción, el modelo entiende que el impacto del precio cambia según la estación del año.\n",
        "\n",
        "**2: VIF de la interacción**\n",
        "\n",
        "Ahora supongamos que calculamos el VIF de la variable Precio X Estación y obtenemos 12.5\n",
        "\n",
        "VIF=12.5\n",
        "\n",
        "Como es mayor a 10, esto indica multicolinealidad fuerte.\n",
        "\n",
        "**Soluciones**\n",
        "\n",
        "Eliminar la interacción o la variable original si no aporta mucho al modelo.\n",
        "\n",
        "Aplicar regularización (Ridge o Lasso) para reducir la inestabilidad en los coeficientes."
      ],
      "id": "tEgefQ1cH8fA"
    },
    {
      "cell_type": "markdown",
      "metadata": {
        "id": "8XdQIyu_H8fB"
      },
      "source": [
        "---"
      ],
      "id": "8XdQIyu_H8fB"
    },
    {
      "cell_type": "markdown",
      "metadata": {
        "id": "XKsr-uPlH8fB"
      },
      "source": [
        "## **Parte 6: Variables Categóricas e Interacciones**\n",
        "\n",
        "1.  Define una **variable categórica** para tu caso (puedes inventarla si no la tenías). Elige una de sus categorías como el nivel **base** o de referencia y **justifica** tu elección.\n",
        "2.  Crea una **interacción** entre una variable numérica y la variable categórica que definiste. Explica cómo se interpretaría el coeficiente de esta interacción."
      ],
      "id": "XKsr-uPlH8fB"
    },
    {
      "cell_type": "markdown",
      "metadata": {
        "id": "7i_JBwwbH8fC"
      },
      "source": [
        "**Respuesta (escribe aquí):**\n",
        "\n",
        "Variable categórica: Turno de producción (Mañana, Tarde, Noche).\n",
        "\n",
        "Base elegida: “Mañana”, porque es el turno estándar.\n",
        "\n",
        "Interacción: Velocidad de máquina X Turno Noche.\n",
        "\n",
        "Interpretación: El coeficiente de esta interacción muestra cómo cambia el efecto de la velocidad en la producción durante la noche frente al turno de la mañana.\n",
        "\n",
        "---\n",
        "\n"
      ],
      "id": "7i_JBwwbH8fC"
    },
    {
      "cell_type": "markdown",
      "metadata": {
        "id": "DjYrQWpqH8fC"
      },
      "source": [
        "---"
      ],
      "id": "DjYrQWpqH8fC"
    },
    {
      "cell_type": "markdown",
      "metadata": {
        "id": "mG9YJpeoH8fC"
      },
      "source": [
        "## **Parte 7: Conceptos Clave de Clasificación**\n",
        "\n",
        "Aunque el taller se centra en regresión, estos conceptos son fundamentales en Machine Learning.\n",
        "\n",
        "1.  Explica qué es la **curva ROC** y para qué se utiliza en un problema de clasificación.\n",
        "2.  Define el concepto de **accuracy** (exactitud) y menciona una situación en la que podría ser una métrica engañosa.\n",
        "3.  Describe qué es una **matriz de confusión** y cómo se interpretan sus componentes (Verdaderos Positivos, Falsos Positivos, Verdaderos Negativos, Falsos Negativos)."
      ],
      "id": "mG9YJpeoH8fC"
    },
    {
      "cell_type": "markdown",
      "metadata": {
        "id": "aq-cYN3nH8fD"
      },
      "source": [
        "**Respuesta (escribe aquí):**\n",
        "\n",
        "**1. Curva ROC:**\n",
        "\n",
        "“La curva ROC (Receiver Operating Characteristic) grafica la Tasa de Verdaderos Positivos (TPR) contra la Tasa de Falsos Positivos (FPR) a diferentes umbrales de decisión. El área bajo la curva (AUC) resume el desempeño del clasificador.\n",
        "\n",
        "\n",
        "Su utilidad está en evaluar el rendimiento de un modelo de clasificación binaria más allá de un único punto de corte. Un área bajo la curva (AUC) cercana a 1 indica un modelo muy bueno, mientras que un valor cercano a 0.5 indica un modelo que no clasifica mejor que el azar.\n",
        "\n",
        "**2. Accuracy:**\n",
        "\n",
        "“Accuracy es la proporción de instancias correctamente clasificadas sobre el total. Puede ser engañosa en conjuntos de datos desbalanceados\n",
        "\n",
        "Aunque es una métrica fácil de interpretar, puede resultar engañosa en casos de clases desbalanceadas. Por ejemplo, si en un problema el 95% de los casos son negativos, un modelo que siempre prediga “negativo” alcanzará un 95% de accuracy, pero en realidad no está detectando los positivos.\n",
        "\n",
        "**3. Matriz de confusión**\n",
        "\n",
        " “La matriz de confusión resume las predicciones de un clasificador en cuatro categorías: Verdaderos Positivos (VP), Falsos Positivos (FP), Verdaderos Negativos (VN) y Falsos Negativos (FN).\n",
        "\n",
        " Es una tabla que compara lo que predice el modelo con la realidad, mostrando 4 valores clave:\n",
        "\n",
        "VP: predice positivo y es positivo.\n",
        "\n",
        "FP: predice positivo pero era negativo.\n",
        "\n",
        "VN: predice negativo y es negativo.\n",
        "\n",
        "FN: predice negativo pero era positivo.\n",
        "\n",
        "Esta matriz es muy útil porque permite calcular otras métricas y entender qué tipo de errores está cometiendo el modelo."
      ],
      "id": "aq-cYN3nH8fD"
    }
  ],
  "metadata": {
    "kernelspec": {
      "display_name": "Python 3",
      "language": "python",
      "name": "python3"
    },
    "language_info": {
      "name": "python",
      "version": "3.x"
    },
    "colab": {
      "provenance": [],
      "include_colab_link": true
    }
  },
  "nbformat": 4,
  "nbformat_minor": 5
}